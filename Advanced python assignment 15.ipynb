{
 "cells": [
  {
   "cell_type": "markdown",
   "id": "69d822ae",
   "metadata": {},
   "source": [
    "## 1. What are the new features added in Python 3.8 version?"
   ]
  },
  {
   "cell_type": "markdown",
   "id": "8393e3e7",
   "metadata": {},
   "source": [
    "Python 3.8, released on October 14, 2019, introduced several new features, optimizations, and improvements. Some of the notable features added in Python 3.8 include:\n",
    "\n",
    "1. Assignment Expressions (The \"Walrus Operator\"): Introduced the `:=` operator, also known as the walrus operator, which allows assignment and returning the assigned value in a single expression. It is useful for reducing duplication and improving code readability.\n",
    "\n",
    "2. Positional-Only Parameters: The ability to specify function parameters that can only be passed positionally and not as keyword arguments. This allows for better control over the function's API.\n",
    "\n",
    "3. f-strings now support the `=` specifier: The `=` specifier in f-strings allows for better debugging and inspection of variable values by showing both the expression and its result.\n",
    "\n",
    "4. Python initialization configuration (`pyconfig.h`): A new C API configuration system (`pyconfig.h`) to simplify the process of building Python from source.\n",
    "\n",
    "5. `__future__` annotations for function signatures: Introduced `__future__` annotations for function signatures to improve forward compatibility when using new syntax features.\n",
    "\n",
    "6. `math.prod()`: A new math function, `math.prod()`, to calculate the product of all elements in an iterable.\n",
    "\n",
    "7. `math.isqrt()`: A new math function, `math.isqrt()`, to calculate the integer square root of a non-negative integer.\n",
    "\n",
    "8. Reversed dictionaries: `dict` now preserves the insertion order, making it more predictable and reliable.\n",
    "\n",
    "9. `functools.cache`: A new function in `functools` module that provides a built-in caching mechanism for function results to improve performance.\n",
    "\n",
    "10. `os.sendfile()`: A new function in the `os` module that allows for efficient data transfer between file-like objects.\n",
    "\n",
    "11. The `ast` module now includes `ast.unparse()`: A new function to convert AST nodes back into valid Python source code.\n",
    "\n",
    "12. Improved performance in dictionary and set operations: Various optimizations to make dictionary and set operations faster.\n",
    "\n",
    "13. `str.removeprefix()` and `str.removesuffix()`: New string methods to remove a prefix or suffix from a string.\n",
    "\n",
    "These are some of the new features and improvements introduced in Python 3.8. As Python continues to evolve, new versions bring in additional enhancements, bug fixes, and optimizations. "
   ]
  },
  {
   "cell_type": "markdown",
   "id": "39086045",
   "metadata": {},
   "source": [
    "## 2. What is monkey patching in Python?"
   ]
  },
  {
   "cell_type": "markdown",
   "id": "a10ee135",
   "metadata": {},
   "source": [
    "Monkey patching in Python refers to the practice of dynamically modifying or extending the behavior of classes, functions, or modules at runtime. It allows you to make changes to code at runtime without altering the original source code directly. Monkey patching is a powerful technique often used for testing, debugging, or adding temporary fixes to third-party libraries or modules.\n",
    "\n",
    "The term \"monkey patching\" comes from the idea that you are \"monkeying around\" with the code at runtime, making changes without adhering to standard practices. While it can be a useful tool in certain situations, monkey patching should be used with caution, as it can lead to unpredictable behavior and make the codebase harder to maintain and debug.\n",
    "\n",
    "Here's an example of monkey patching in Python:\n",
    "\n",
    "```python\n",
    "# Original class definition\n",
    "class MyClass:\n",
    "    def say_hello(self):\n",
    "        return \"Hello, world!\"\n",
    "\n",
    "# Monkey patching - Adding a new method to the class\n",
    "def new_method(self):\n",
    "    return \"This is a new method!\"\n",
    "\n",
    "MyClass.new_method = new_method\n",
    "\n",
    "# Creating an instance of the class\n",
    "obj = MyClass()\n",
    "\n",
    "# Calling the original method\n",
    "print(obj.say_hello())  # Output: \"Hello, world!\"\n",
    "\n",
    "# Calling the newly added method through monkey patching\n",
    "print(obj.new_method())  # Output: \"This is a new method!\"\n",
    "```\n",
    "\n",
    "In this example, we have defined a class `MyClass` with a method `say_hello`. Later, we use monkey patching to add a new method `new_method` to the class. This new method was not present in the original class definition but is added at runtime through monkey patching.\n",
    "\n",
    "As mentioned earlier, while monkey patching can be a handy technique, it should be used judiciously and only when necessary. Overuse of monkey patching can lead to code complexity, maintenance issues, and compatibility problems, especially when working with larger codebases or collaborating with other developers. If possible, it's generally better to use subclassing or other standard techniques for extending or modifying the behavior of classes and functions."
   ]
  },
  {
   "cell_type": "markdown",
   "id": "1197114f",
   "metadata": {},
   "source": [
    "## 3. What is the difference between a shallow copy and deep copy?"
   ]
  },
  {
   "cell_type": "markdown",
   "id": "db8e974f",
   "metadata": {},
   "source": [
    "The difference between a shallow copy and a deep copy lies in how they create copies of complex objects, such as lists, dictionaries, or custom objects that contain other objects as their elements. The distinction is essential because it affects how changes to the copied objects are handled and how memory is allocated for the copied objects.\n",
    "\n",
    "1. Shallow Copy:\n",
    "   - A shallow copy creates a new object, but it does not create new objects for elements contained within the copied object. Instead, it copies references to the original elements.\n",
    "   - If the original object contains mutable elements (e.g., lists, dictionaries), both the original object and the shallow copy will reference the same mutable elements. Changes made to these shared elements will be reflected in both the original object and the shallow copy.\n",
    "   - Shallow copies are typically created using the `copy()` method or the `copy` module's `copy()` function.\n",
    "\n",
    "Example of a shallow copy:\n",
    "\n",
    "```python\n",
    "import copy\n",
    "\n",
    "original_list = [1, [2, 3], 4]\n",
    "shallow_copy = copy.copy(original_list)\n",
    "\n",
    "shallow_copy[1][0] = 'X'\n",
    "\n",
    "print(original_list)  # Output: [1, ['X', 3], 4]\n",
    "print(shallow_copy)   # Output: [1, ['X', 3], 4]\n",
    "```\n",
    "\n",
    "In the example above, the shallow copy of `original_list` changes the first element of the nested list to `'X'`. As a result, the change is also reflected in the original list.\n",
    "\n",
    "2. Deep Copy:\n",
    "   - A deep copy creates a new object and recursively creates copies of all elements contained within the original object, including nested objects. In other words, it creates a completely independent copy of the original object and all its nested objects.\n",
    "   - If the original object contains mutable elements, a deep copy will create separate copies of these elements. Changes made to the elements in the deep copy will not affect the original object or any other copies.\n",
    "   - Deep copies are typically created using the `deepcopy()` function from the `copy` module.\n",
    "\n",
    "Example of a deep copy:\n",
    "\n",
    "```python\n",
    "import copy\n",
    "\n",
    "original_list = [1, [2, 3], 4]\n",
    "deep_copy = copy.deepcopy(original_list)\n",
    "\n",
    "deep_copy[1][0] = 'Y'\n",
    "\n",
    "print(original_list)  # Output: [1, [2, 3], 4]\n",
    "print(deep_copy)      # Output: [1, ['Y', 3], 4]\n",
    "```\n",
    "\n",
    "In the example above, the deep copy of `original_list` changes the first element of the nested list to `'Y'`. However, this change does not affect the original list, demonstrating that the deep copy is completely independent.\n",
    "\n",
    "In summary, a shallow copy creates a new object but shares references to the elements within the copied object, while a deep copy creates a new object and recursively creates independent copies of all elements, including nested elements. The choice between shallow and deep copy depends on whether you want to maintain a connection to the original object's elements (shallow copy) or create a completely independent copy of all elements (deep copy)."
   ]
  },
  {
   "cell_type": "markdown",
   "id": "0b6e472f",
   "metadata": {},
   "source": [
    "## 4. What is the maximum possible length of an identifier?"
   ]
  },
  {
   "cell_type": "markdown",
   "id": "abf3fc07",
   "metadata": {},
   "source": [
    "In Python, the maximum possible length of an identifier is not explicitly specified. However, the Python language implementation sets a practical limit based on the underlying operating system and hardware.\n",
    "\n",
    "In CPython (the reference implementation of Python), which is commonly used, the maximum length for an identifier is determined by the `MAXSIZE` constant defined in the Python source code. For most systems, this value is typically 2^31 - 1 or 2^63 - 1, depending on whether the system is 32-bit or 64-bit.\n",
    "\n",
    "In practice, this means that the maximum length of an identifier in Python is very large and should not be a concern in most scenarios. Identifiers are used for naming variables, functions, classes, and other entities in Python, and they are typically much shorter than the maximum allowed length.\n",
    "\n",
    "As a best practice, it is recommended to use descriptive and meaningful names for identifiers rather than making them excessively long. This promotes code readability and maintainability, and it also ensures compatibility across different Python implementations."
   ]
  },
  {
   "cell_type": "markdown",
   "id": "74ac4891",
   "metadata": {},
   "source": [
    "## 5. What is generator comprehension?"
   ]
  },
  {
   "cell_type": "markdown",
   "id": "a7a1dbb8",
   "metadata": {},
   "source": [
    "Generator comprehension, also known as generator expression, is a concise and memory-efficient way to create generators in Python. It is similar to list comprehension, but instead of creating a list, it produces a generator object that generates values on-the-fly as they are needed. This makes generator comprehension particularly useful when dealing with large datasets or infinite sequences.\n",
    "\n",
    "The syntax for generator comprehension is the same as list comprehension, but instead of square brackets `[ ]`, it uses parentheses `( )`.\n",
    "\n",
    "Here's the general syntax for generator comprehension:\n",
    "\n",
    "```python\n",
    "(generator_expression for item in iterable if condition)\n",
    "```\n",
    "\n",
    "- `generator_expression`: The expression to compute the values for the generator.\n",
    "- `item`: The variable that takes each value from the `iterable`.\n",
    "- `iterable`: The sequence or collection to iterate over.\n",
    "- `condition` (optional): A filter condition that determines whether to include the `item` in the generator.\n",
    "\n",
    "Generator comprehension is evaluated lazily, which means that it only generates the values as they are needed. This results in reduced memory consumption and allows you to work with large datasets efficiently.\n",
    "\n",
    "Example of generator comprehension:\n",
    "\n",
    "```python\n",
    "# List comprehension\n",
    "numbers_list = [x * 2 for x in range(5)]\n",
    "print(numbers_list)  # Output: [0, 2, 4, 6, 8]\n",
    "\n",
    "# Generator comprehension\n",
    "numbers_generator = (x * 2 for x in range(5))\n",
    "print(numbers_generator)  # Output: <generator object <genexpr> at 0x7f27dca24550>\n",
    "\n",
    "# Accessing values from the generator\n",
    "for number in numbers_generator:\n",
    "    print(number, end=\" \")  # Output: 0 2 4 6 8\n",
    "```\n",
    "\n",
    "In the example above, we create a list using list comprehension and a generator using generator comprehension. The list comprehension `[x * 2 for x in range(5)]` creates the list `[0, 2, 4, 6, 8]`, while the generator comprehension `(x * 2 for x in range(5))` creates a generator object. When we iterate over the generator using a `for` loop, the values are generated one by one, which is evident from the output of the loop."
   ]
  }
 ],
 "metadata": {
  "kernelspec": {
   "display_name": "Python 3 (ipykernel)",
   "language": "python",
   "name": "python3"
  },
  "language_info": {
   "codemirror_mode": {
    "name": "ipython",
    "version": 3
   },
   "file_extension": ".py",
   "mimetype": "text/x-python",
   "name": "python",
   "nbconvert_exporter": "python",
   "pygments_lexer": "ipython3",
   "version": "3.9.13"
  }
 },
 "nbformat": 4,
 "nbformat_minor": 5
}
